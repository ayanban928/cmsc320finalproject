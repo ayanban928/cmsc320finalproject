{
 "cells": [
  {
   "cell_type": "code",
   "execution_count": null,
   "metadata": {},
   "outputs": [],
   "source": [
    "import pandas as pd\n",
    "import numpy as np\n",
    "from sklearn.preprocessing import LabelEncoder\n",
    "from scipy.stats import ttest_ind\n",
    "from scipy.stats import f_oneway\n",
    "from statsmodels.stats.multicomp import pairwise_tukeyhsd\n",
    "import matplotlib.pyplot as plt\n",
    "import seaborn as sns"
   ]
  },
  {
   "cell_type": "code",
   "execution_count": null,
   "metadata": {},
   "outputs": [],
   "source": [
    "# loading data\n",
    "train_df = pd.read_csv('DATASETS/train.csv', low_memory=False)\n",
    "store_df = pd.read_csv('DATASETS/store.csv', low_memory=False)"
   ]
  },
  {
   "cell_type": "code",
   "execution_count": null,
   "metadata": {},
   "outputs": [],
   "source": [
    "# merging the data and displaying starting types of all column data\n",
    "df = pd.merge(train_df, store_df, on='Store', how='left')\n",
    "df.dtypes"
   ]
  },
  {
   "cell_type": "code",
   "execution_count": null,
   "metadata": {},
   "outputs": [],
   "source": [
    "# getting number of rows and columns\n",
    "print(f\"Rows: {df.shape[0]}\")\n",
    "print(f\"Columns: {df.shape[1]}\")"
   ]
  },
  {
   "cell_type": "code",
   "execution_count": null,
   "metadata": {},
   "outputs": [],
   "source": [
    "df['Date'] = pd.to_datetime(df['Date'])"
   ]
  },
  {
   "cell_type": "code",
   "execution_count": null,
   "metadata": {},
   "outputs": [],
   "source": [
    "# label encode all the following columns\n",
    "cols = ['StateHoliday', 'StoreType', 'Assortment', 'PromoInterval']\n",
    "for col in cols:\n",
    "    df[col] = df[col].astype(str)\n",
    "    df[col] = LabelEncoder().fit_transform(df[col])"
   ]
  },
  {
   "cell_type": "code",
   "execution_count": null,
   "metadata": {},
   "outputs": [],
   "source": [
    "# converting string numbers into just numbers\n",
    "cols = ['Open', 'Promo', 'Promo2', 'SchoolHoliday']\n",
    "for col in cols:\n",
    "    df[col] = df[col].astype(int)"
   ]
  },
  {
   "cell_type": "code",
   "execution_count": null,
   "metadata": {},
   "outputs": [],
   "source": [
    "df.dtypes"
   ]
  },
  {
   "cell_type": "code",
   "execution_count": null,
   "metadata": {},
   "outputs": [],
   "source": [
    "df.head()"
   ]
  },
  {
   "cell_type": "markdown",
   "metadata": {},
   "source": [
    "# Hypothesis Testing"
   ]
  },
  {
   "cell_type": "markdown",
   "metadata": {},
   "source": [
    "## Conclusion 1: Stores with ongoing promotions have higher sales.\n",
    "\n",
    "**Statistical method**: Two-sample t-test\n",
    "\n",
    "**Null (H0)**: The mean sales for stores with Promo = 0 is equal to the mean sales for stores with Promo = 1.\n",
    "\n",
    "**Alternative (Ha)**: The mean sales for stores with Promo = 1 is greater than that of stores with Promo = 0."
   ]
  },
  {
   "cell_type": "code",
   "execution_count": null,
   "metadata": {},
   "outputs": [],
   "source": [
    "promo_df = df[df[\"Promo\"] == 1]\n",
    "nopromo_df = df[df[\"Promo\"] == 0]\n",
    "\n",
    "pval = ttest_ind(promo_df[\"Sales\"], nopromo_df[\"Sales\"], equal_var=False, alternative='greater').pvalue\n",
    "print(f\"P-value = {pval}\")"
   ]
  },
  {
   "cell_type": "markdown",
   "metadata": {},
   "source": [
    "We have found that the p-value is **effectively 0**. There is very strong evidence that sales are higher with promotions compared to without promotions. We are able to reject the null hypothesis. We are able to see this in the plot below, promotions tend to result in a higher median and overall sales."
   ]
  },
  {
   "cell_type": "code",
   "execution_count": null,
   "metadata": {},
   "outputs": [],
   "source": [
    "plt.figure(figsize=(10, 6))\n",
    "sns.boxplot(x=\"Promo\", y=\"Sales\", data=df)\n",
    "plt.title(\"Sales Distribution: Promo vs No Promo\", fontsize=14)\n",
    "plt.xlabel(\"Promo (0 = No, 1 = Yes)\", fontsize=12)\n",
    "plt.ylabel(\"Sales\", fontsize=12)\n",
    "plt.grid(True, linestyle='--', alpha=0.5)\n",
    "plt.show()"
   ]
  },
  {
   "cell_type": "markdown",
   "metadata": {},
   "source": [
    "## Conclusion 2: Sales amounts are strongly correlated with customer amounts\n",
    "\n",
    "**Statistical method**: Correlation analysis (Pearson)"
   ]
  },
  {
   "cell_type": "code",
   "execution_count": null,
   "metadata": {},
   "outputs": [],
   "source": [
    "corr = df[\"Sales\"].corr(df[\"Customers\"])\n",
    "print(f\"Pearson Correlation Coefficient: {corr}\")"
   ]
  },
  {
   "cell_type": "markdown",
   "metadata": {},
   "source": [
    "We have found a correlation coefficient of 0.895, which is very close to 1. This indicates a strong positive linear relationship between the number of customers and total sales. We can interpret this as customers increase, sales tend to increase as well. This is also supported by the accompanying scatterplot."
   ]
  },
  {
   "cell_type": "code",
   "execution_count": null,
   "metadata": {},
   "outputs": [],
   "source": [
    "plt.figure(figsize=(10, 6))\n",
    "sns.regplot(x=\"Customers\", y=\"Sales\", data=df)\n",
    "plt.title(\"Sales vs. Number of Customers\", fontsize=16)\n",
    "plt.xlabel(\"Number of Customers\")\n",
    "plt.ylabel(\"Sales\")\n",
    "plt.grid(True, linestyle=\"--\", alpha=0.5)\n",
    "plt.show()"
   ]
  },
  {
   "cell_type": "markdown",
   "metadata": {},
   "source": [
    "## Conclusion 3: Store type has a significant impact on average sales\n",
    "\n",
    "**Statistical method**: One-Way Anova\n",
    "\n",
    "**Null Hypothesis (HO)**: There is no significant difference in mean daily sales across different store types.  \n",
    "**Alternative Hypothesis(Ha)**: At least one store type has a significantly different mean daily sales."
   ]
  },
  {
   "cell_type": "code",
   "execution_count": null,
   "metadata": {},
   "outputs": [],
   "source": [
    "sales_type = []\n",
    "for store_type, group in df.groupby('StoreType'):\n",
    "    sales_type.append(group['Sales'].dropna())\n",
    "\n",
    "res = f_oneway(*sales_type)\n",
    "p_value = res.pvalue\n",
    "print(f\"P-value: {p_value}\")"
   ]
  },
  {
   "cell_type": "markdown",
   "metadata": {},
   "source": [
    "We have found that the p-value is **effectively 0**. There is very strong evidence that store type has a significant effect on average sales, meaning that at least one store type differs meaningfully from the others for daily sales performance. "
   ]
  },
  {
   "cell_type": "code",
   "execution_count": null,
   "metadata": {},
   "outputs": [],
   "source": [
    "plt.figure(figsize=(10, 6))\n",
    "sns.barplot(x='StoreType', y='Sales', data=df, errorbar=None)\n",
    "plt.title(\"Mean Sales by Store Type\", fontsize=16)\n",
    "plt.xlabel(\"Store Type\")\n",
    "plt.ylabel(\"Mean Sales\")\n",
    "plt.grid(True, linestyle='--', alpha=0.5)\n",
    "plt.show()"
   ]
  },
  {
   "cell_type": "markdown",
   "metadata": {},
   "source": [
    "Let's run a Post-Hoc Analysis using **Tukey's HSD on Store Type**"
   ]
  },
  {
   "cell_type": "code",
   "execution_count": null,
   "metadata": {},
   "outputs": [],
   "source": [
    "# running turkey's hsd + printing summary\n",
    "turkey = pairwise_tukeyhsd(endog=df['Sales'], groups=df['StoreType'], alpha=0.05)\n",
    "print(turkey.summary())"
   ]
  },
  {
   "cell_type": "markdown",
   "metadata": {},
   "source": [
    "From before our label encoder mapped a,b,c,d to 0,1,2,3 respectively. So this tells us Store Type b has significantly higher sales than all other types. Store Types a and c are statistically similar in sales performance. Store d, when compared to the rest of the stores, underperforms."
   ]
  }
 ],
 "metadata": {
  "kernelspec": {
   "display_name": "base",
   "language": "python",
   "name": "python3"
  },
  "language_info": {
   "codemirror_mode": {
    "name": "ipython",
    "version": 3
   },
   "file_extension": ".py",
   "mimetype": "text/x-python",
   "name": "python",
   "nbconvert_exporter": "python",
   "pygments_lexer": "ipython3",
   "version": "3.12.4"
  }
 },
 "nbformat": 4,
 "nbformat_minor": 4
}
