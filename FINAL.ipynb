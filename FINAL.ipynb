{
 "cells": [
  {
   "cell_type": "markdown",
   "id": "7d30add9-c411-4cf1-b160-6dd464aef26b",
   "metadata": {},
   "source": [
    "# Rossman Store Evaluation\n",
    "\n",
    "Spring 2025 CMSC320 Final Project\n",
    "\n",
    "Collaborators: Marvin Lin, Christopher Su, Tanish Bollam, Ayan Banerjee"
   ]
  },
  {
   "cell_type": "markdown",
   "id": "61641052-2156-4f89-a649-d513b4c2f531",
   "metadata": {},
   "source": [
    "### Contributions:\n",
    "\n",
    "Marvin:\n",
    "\n",
    "Chris:\n",
    "\n",
    "Tanish:\n",
    "\n",
    "Ayan:"
   ]
  },
  {
   "cell_type": "markdown",
   "id": "309aa67e-afcd-4688-922a-c1c5b7f336a4",
   "metadata": {},
   "source": [
    "## Introduction:"
   ]
  },
  {
   "cell_type": "markdown",
   "id": "d4f1d585-8acb-42ae-8999-1a476ab020d3",
   "metadata": {},
   "source": [
    "yap about project idea etc\n",
    "\n",
    "The introduction should motivate your work: what is your topic? What\n",
    "question(s) are you trying to answer with your analysis? Why is answering those\n",
    "questions important?"
   ]
  },
  {
   "cell_type": "markdown",
   "id": "cb1d2c9c-98fc-4300-8a05-8e830b833976",
   "metadata": {},
   "source": [
    "## Data Collection/Curation"
   ]
  },
  {
   "cell_type": "markdown",
   "id": "a65bd0e6",
   "metadata": {},
   "source": [
    "Things to include:\n",
    "Cite the source(s) of your data. Explain what it is. Transform the data\n",
    "so that it is ready for analysis. For example, set up a database and use SQL to query\n",
    "for data, or organize a pandas DataFrame.\n"
   ]
  },
  {
   "cell_type": "markdown",
   "id": "ceaf5441-0719-416e-b5a1-f03cfd84beea",
   "metadata": {},
   "source": [
    "This part of the project involves searching for and collecting relevant data from several sources. "
   ]
  },
  {
   "cell_type": "markdown",
   "id": "a979e3ec-3ebe-4112-90a2-4337110a7873",
   "metadata": {},
   "source": [
    "We will begin by importing relevant Python libraries necessary for this process.\n",
    "\n",
    "**Imports**"
   ]
  },
  {
   "cell_type": "code",
   "execution_count": 7,
   "id": "e9f7c72d-d729-42d1-9e06-2c96409f4039",
   "metadata": {},
   "outputs": [],
   "source": [
    "import pandas as pd\n",
    "import numpy as np\n",
    "\n",
    "# Libraries for hypothesis testing\n",
    "from sklearn.preprocessing import LabelEncoder\n",
    "from scipy.stats import ttest_ind\n",
    "from scipy.stats import f_oneway\n",
    "from statsmodels.stats.multicomp import pairwise_tukeyhsd\n",
    "\n",
    "# Libraries for data visualization\n",
    "import matplotlib.pyplot as plt\n",
    "import seaborn as sns"
   ]
  },
  {
   "cell_type": "markdown",
   "id": "2171a4eb-87dd-4628-9c3d-493beb482b9c",
   "metadata": {},
   "source": [
    "These libraries are necessary in the data science process. \n",
    "\n",
    "* **Pandas** is a library used for data manipulation and analysis. It provides data structures such as DataFrame and Series that allow us to efficiently handle structured data.\n",
    "* **Numpy** is a a fundamental library for numerical computing. It offers support for arrays, functions, linear algebra, and statistical operations among functionality.\n",
    "* **Scikit-learn** is a library primarily used for machine learning. It provides efficent tools for data analysis and modeling. These tasks include classification, regression, clustering, and dimensionality reduction.\n",
    "* **Scipy-stats** is a module within scipy the SciPy library that provides various functions for statistical computations. These include probability distributions, statistical tests, descriptive statistics, etc.\n",
    "* **Matplotlib** and **seaborn** are data visualization libraries for creating visualizations in Python such as line graphs, histograms, bar charts, etc."
   ]
  },
  {
   "cell_type": "markdown",
   "id": "9916c50b-53d8-4d83-a82f-d20a629c78a9",
   "metadata": {},
   "source": [
    "Next, we must choose a relevant dataset for our topic. Based on our objective of predicting future store sales based on historical data, we chose the [Rossmann Store Sales dataset](https://www.kaggle.com/competitions/rossmann-store-sales) to work with. Rossmann is one of the largest drug store chains in Europe, with over 4000 stores. This dataset includes key features such as Date, Customers, Sales, Store information, Promotions, etc that will be important for predicting future sales. It includes historical sales data for 1,115 Rossmann stores. \n",
    "\n",
    "The data is split into the following files:\n",
    "* **train.csv** - historical data including Sales.\n",
    "* **test.csv** - historical data excluding Sales.\n",
    "* **store.csv** - supplemental information about the stores.\n",
    "\n",
    "After downloading these datasets, we can begin by loading them into pandas DataFrames."
   ]
  },
  {
   "cell_type": "code",
   "execution_count": 9,
   "id": "954b6c2a-bd58-43d5-b2a1-26f401b6ddb2",
   "metadata": {},
   "outputs": [],
   "source": [
    "# Load data into pandas DataFrames\n",
    "train_df = pd.read_csv('DATASETS/train.csv', low_memory=False)\n",
    "test_df = pd.read_csv('DATASETS/test.csv', low_memory=False)\n",
    "store_df = pd.read_csv('DATASETS/store.csv', low_memory=False)"
   ]
  },
  {
   "cell_type": "markdown",
   "id": "fb108ed3-1f3a-43ba-86af-fd221fe035d8",
   "metadata": {},
   "source": [
    "We use these two datasets and exclude **test.csv** because the information is already included in **train.csv**. The next step is to combine these into one DataFrame "
   ]
  },
  {
   "cell_type": "markdown",
   "id": "556c170a-a613-4c12-a525-db0b86e900f1",
   "metadata": {},
   "source": [
    "## Data Preprocessing"
   ]
  },
  {
   "cell_type": "code",
   "execution_count": 11,
   "id": "10160a1e-ce09-445e-ba72-2fd447195d9d",
   "metadata": {},
   "outputs": [
    {
     "data": {
      "text/html": [
       "<div>\n",
       "<style scoped>\n",
       "    .dataframe tbody tr th:only-of-type {\n",
       "        vertical-align: middle;\n",
       "    }\n",
       "\n",
       "    .dataframe tbody tr th {\n",
       "        vertical-align: top;\n",
       "    }\n",
       "\n",
       "    .dataframe thead th {\n",
       "        text-align: right;\n",
       "    }\n",
       "</style>\n",
       "<table border=\"1\" class=\"dataframe\">\n",
       "  <thead>\n",
       "    <tr style=\"text-align: right;\">\n",
       "      <th></th>\n",
       "      <th>Store</th>\n",
       "      <th>DayOfWeek</th>\n",
       "      <th>Date</th>\n",
       "      <th>Sales</th>\n",
       "      <th>Customers</th>\n",
       "      <th>Open</th>\n",
       "      <th>Promo</th>\n",
       "      <th>StateHoliday</th>\n",
       "      <th>SchoolHoliday</th>\n",
       "      <th>StoreType_x</th>\n",
       "      <th>...</th>\n",
       "      <th>PromoInterval_x</th>\n",
       "      <th>StoreType_y</th>\n",
       "      <th>Assortment_y</th>\n",
       "      <th>CompetitionDistance_y</th>\n",
       "      <th>CompetitionOpenSinceMonth_y</th>\n",
       "      <th>CompetitionOpenSinceYear_y</th>\n",
       "      <th>Promo2_y</th>\n",
       "      <th>Promo2SinceWeek_y</th>\n",
       "      <th>Promo2SinceYear_y</th>\n",
       "      <th>PromoInterval_y</th>\n",
       "    </tr>\n",
       "  </thead>\n",
       "  <tbody>\n",
       "    <tr>\n",
       "      <th>0</th>\n",
       "      <td>1</td>\n",
       "      <td>5</td>\n",
       "      <td>2015-07-31</td>\n",
       "      <td>5263</td>\n",
       "      <td>555</td>\n",
       "      <td>1</td>\n",
       "      <td>1</td>\n",
       "      <td>0</td>\n",
       "      <td>1</td>\n",
       "      <td>c</td>\n",
       "      <td>...</td>\n",
       "      <td>NaN</td>\n",
       "      <td>c</td>\n",
       "      <td>a</td>\n",
       "      <td>1270.0</td>\n",
       "      <td>9.0</td>\n",
       "      <td>2008.0</td>\n",
       "      <td>0</td>\n",
       "      <td>NaN</td>\n",
       "      <td>NaN</td>\n",
       "      <td>NaN</td>\n",
       "    </tr>\n",
       "    <tr>\n",
       "      <th>1</th>\n",
       "      <td>2</td>\n",
       "      <td>5</td>\n",
       "      <td>2015-07-31</td>\n",
       "      <td>6064</td>\n",
       "      <td>625</td>\n",
       "      <td>1</td>\n",
       "      <td>1</td>\n",
       "      <td>0</td>\n",
       "      <td>1</td>\n",
       "      <td>a</td>\n",
       "      <td>...</td>\n",
       "      <td>Jan,Apr,Jul,Oct</td>\n",
       "      <td>a</td>\n",
       "      <td>a</td>\n",
       "      <td>570.0</td>\n",
       "      <td>11.0</td>\n",
       "      <td>2007.0</td>\n",
       "      <td>1</td>\n",
       "      <td>13.0</td>\n",
       "      <td>2010.0</td>\n",
       "      <td>Jan,Apr,Jul,Oct</td>\n",
       "    </tr>\n",
       "    <tr>\n",
       "      <th>2</th>\n",
       "      <td>3</td>\n",
       "      <td>5</td>\n",
       "      <td>2015-07-31</td>\n",
       "      <td>8314</td>\n",
       "      <td>821</td>\n",
       "      <td>1</td>\n",
       "      <td>1</td>\n",
       "      <td>0</td>\n",
       "      <td>1</td>\n",
       "      <td>a</td>\n",
       "      <td>...</td>\n",
       "      <td>Jan,Apr,Jul,Oct</td>\n",
       "      <td>a</td>\n",
       "      <td>a</td>\n",
       "      <td>14130.0</td>\n",
       "      <td>12.0</td>\n",
       "      <td>2006.0</td>\n",
       "      <td>1</td>\n",
       "      <td>14.0</td>\n",
       "      <td>2011.0</td>\n",
       "      <td>Jan,Apr,Jul,Oct</td>\n",
       "    </tr>\n",
       "    <tr>\n",
       "      <th>3</th>\n",
       "      <td>4</td>\n",
       "      <td>5</td>\n",
       "      <td>2015-07-31</td>\n",
       "      <td>13995</td>\n",
       "      <td>1498</td>\n",
       "      <td>1</td>\n",
       "      <td>1</td>\n",
       "      <td>0</td>\n",
       "      <td>1</td>\n",
       "      <td>c</td>\n",
       "      <td>...</td>\n",
       "      <td>NaN</td>\n",
       "      <td>c</td>\n",
       "      <td>c</td>\n",
       "      <td>620.0</td>\n",
       "      <td>9.0</td>\n",
       "      <td>2009.0</td>\n",
       "      <td>0</td>\n",
       "      <td>NaN</td>\n",
       "      <td>NaN</td>\n",
       "      <td>NaN</td>\n",
       "    </tr>\n",
       "    <tr>\n",
       "      <th>4</th>\n",
       "      <td>5</td>\n",
       "      <td>5</td>\n",
       "      <td>2015-07-31</td>\n",
       "      <td>4822</td>\n",
       "      <td>559</td>\n",
       "      <td>1</td>\n",
       "      <td>1</td>\n",
       "      <td>0</td>\n",
       "      <td>1</td>\n",
       "      <td>a</td>\n",
       "      <td>...</td>\n",
       "      <td>NaN</td>\n",
       "      <td>a</td>\n",
       "      <td>a</td>\n",
       "      <td>29910.0</td>\n",
       "      <td>4.0</td>\n",
       "      <td>2015.0</td>\n",
       "      <td>0</td>\n",
       "      <td>NaN</td>\n",
       "      <td>NaN</td>\n",
       "      <td>NaN</td>\n",
       "    </tr>\n",
       "  </tbody>\n",
       "</table>\n",
       "<p>5 rows × 27 columns</p>\n",
       "</div>"
      ],
      "text/plain": [
       "   Store  DayOfWeek        Date  Sales  Customers  Open  Promo StateHoliday  \\\n",
       "0      1          5  2015-07-31   5263        555     1      1            0   \n",
       "1      2          5  2015-07-31   6064        625     1      1            0   \n",
       "2      3          5  2015-07-31   8314        821     1      1            0   \n",
       "3      4          5  2015-07-31  13995       1498     1      1            0   \n",
       "4      5          5  2015-07-31   4822        559     1      1            0   \n",
       "\n",
       "   SchoolHoliday StoreType_x  ...  PromoInterval_x  StoreType_y  Assortment_y  \\\n",
       "0              1           c  ...              NaN            c             a   \n",
       "1              1           a  ...  Jan,Apr,Jul,Oct            a             a   \n",
       "2              1           a  ...  Jan,Apr,Jul,Oct            a             a   \n",
       "3              1           c  ...              NaN            c             c   \n",
       "4              1           a  ...              NaN            a             a   \n",
       "\n",
       "   CompetitionDistance_y  CompetitionOpenSinceMonth_y  \\\n",
       "0                 1270.0                          9.0   \n",
       "1                  570.0                         11.0   \n",
       "2                14130.0                         12.0   \n",
       "3                  620.0                          9.0   \n",
       "4                29910.0                          4.0   \n",
       "\n",
       "   CompetitionOpenSinceYear_y  Promo2_y Promo2SinceWeek_y Promo2SinceYear_y  \\\n",
       "0                      2008.0         0               NaN               NaN   \n",
       "1                      2007.0         1              13.0            2010.0   \n",
       "2                      2006.0         1              14.0            2011.0   \n",
       "3                      2009.0         0               NaN               NaN   \n",
       "4                      2015.0         0               NaN               NaN   \n",
       "\n",
       "   PromoInterval_y  \n",
       "0              NaN  \n",
       "1  Jan,Apr,Jul,Oct  \n",
       "2  Jan,Apr,Jul,Oct  \n",
       "3              NaN  \n",
       "4              NaN  \n",
       "\n",
       "[5 rows x 27 columns]"
      ]
     },
     "execution_count": 11,
     "metadata": {},
     "output_type": "execute_result"
    }
   ],
   "source": [
    "train_df = pd.merge(train_df, store_df, on='Store', how='left')\n",
    "test_df = pd.merge(test_df, store_df, on='Store', how='left')\n",
    "train_df.head()"
   ]
  },
  {
   "cell_type": "markdown",
   "id": "40425280",
   "metadata": {},
   "source": [
    "The main training (train_df) and testing (test_df) datasets only include a Store identifier. However, each store "
   ]
  },
  {
   "cell_type": "markdown",
   "id": "f472d58d-995a-4468-a28a-f9f130920533",
   "metadata": {},
   "source": [
    "## Data Exploration & Summary Statistics"
   ]
  },
  {
   "cell_type": "code",
   "execution_count": null,
   "id": "79667e22-4648-45cb-aeb0-887c473e0290",
   "metadata": {},
   "outputs": [],
   "source": []
  },
  {
   "cell_type": "markdown",
   "id": "82731370-a76d-4735-abc2-aae6fff99f8f",
   "metadata": {},
   "source": [
    "## ML Algorithm Design & Development"
   ]
  },
  {
   "cell_type": "code",
   "execution_count": null,
   "id": "08cc940a-4642-4cf3-8d66-dd70bb3a13af",
   "metadata": {},
   "outputs": [],
   "source": []
  },
  {
   "cell_type": "markdown",
   "id": "b4a1c35b-f88e-4b5c-a323-eb78c4a169af",
   "metadata": {},
   "source": [
    "## ML Algorithm Training & Analysis"
   ]
  },
  {
   "cell_type": "code",
   "execution_count": null,
   "id": "c421ba90-b730-4322-bc1c-3f39ad46e0b8",
   "metadata": {},
   "outputs": [],
   "source": []
  },
  {
   "cell_type": "markdown",
   "id": "abb58869-5e08-44e3-8d5e-e4762c1b97fa",
   "metadata": {},
   "source": [
    "## Visualization, Result Analysis, and Conclusion"
   ]
  },
  {
   "cell_type": "code",
   "execution_count": null,
   "id": "670aef31-57d1-45bf-94de-57155151d000",
   "metadata": {},
   "outputs": [],
   "source": []
  },
  {
   "cell_type": "markdown",
   "id": "a72cb9a2",
   "metadata": {},
   "source": [
    "## Final Tutorial Report Creation"
   ]
  },
  {
   "cell_type": "code",
   "execution_count": null,
   "id": "90f4a561",
   "metadata": {},
   "outputs": [],
   "source": []
  }
 ],
 "metadata": {
  "kernelspec": {
   "display_name": "Python 3 (ipykernel)",
   "language": "python",
   "name": "python3"
  },
  "language_info": {
   "codemirror_mode": {
    "name": "ipython",
    "version": 3
   },
   "file_extension": ".py",
   "mimetype": "text/x-python",
   "name": "python",
   "nbconvert_exporter": "python",
   "pygments_lexer": "ipython3",
   "version": "3.12.3"
  }
 },
 "nbformat": 4,
 "nbformat_minor": 5
}
