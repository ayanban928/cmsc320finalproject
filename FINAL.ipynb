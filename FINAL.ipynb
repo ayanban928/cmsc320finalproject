{
 "cells": [
  {
   "cell_type": "markdown",
   "id": "7d30add9-c411-4cf1-b160-6dd464aef26b",
   "metadata": {},
   "source": [
    "# TITLE HERE\n",
    "\n",
    "Spring 2025 CMSC320 Final Project\n",
    "\n",
    "Collaborators: Marvin Lin, Christopher Su, Tanish Bollam, Ayan Banerjee"
   ]
  },
  {
   "cell_type": "markdown",
   "id": "61641052-2156-4f89-a649-d513b4c2f531",
   "metadata": {},
   "source": [
    "### Contributions:\n",
    "\n",
    "Marvin:\n",
    "\n",
    "Chris:\n",
    "\n",
    "Tanish:\n",
    "\n",
    "Ayan:"
   ]
  },
  {
   "cell_type": "markdown",
   "id": "309aa67e-afcd-4688-922a-c1c5b7f336a4",
   "metadata": {},
   "source": [
    "## Introduction:"
   ]
  },
  {
   "cell_type": "markdown",
   "id": "d4f1d585-8acb-42ae-8999-1a476ab020d3",
   "metadata": {},
   "source": [
    "yap about project idea etc"
   ]
  },
  {
   "cell_type": "markdown",
   "id": "cb1d2c9c-98fc-4300-8a05-8e830b833976",
   "metadata": {},
   "source": [
    "## Data Collection"
   ]
  },
  {
   "cell_type": "code",
   "execution_count": null,
   "id": "24ad2bdb-4037-4c9e-8586-e5e42b2b3f46",
   "metadata": {},
   "outputs": [],
   "source": []
  },
  {
   "cell_type": "markdown",
   "id": "556c170a-a613-4c12-a525-db0b86e900f1",
   "metadata": {},
   "source": [
    "## Data Preprocessing"
   ]
  },
  {
   "cell_type": "code",
   "execution_count": null,
   "id": "10160a1e-ce09-445e-ba72-2fd447195d9d",
   "metadata": {},
   "outputs": [],
   "source": []
  },
  {
   "cell_type": "code",
   "execution_count": null,
   "id": "2c35f364-bc48-48d2-a4b6-d1c1f3c211ab",
   "metadata": {},
   "outputs": [],
   "source": []
  }
 ],
 "metadata": {
  "kernelspec": {
   "display_name": "Python 3 (ipykernel)",
   "language": "python",
   "name": "python3"
  },
  "language_info": {
   "codemirror_mode": {
    "name": "ipython",
    "version": 3
   },
   "file_extension": ".py",
   "mimetype": "text/x-python",
   "name": "python",
   "nbconvert_exporter": "python",
   "pygments_lexer": "ipython3",
   "version": "3.12.3"
  }
 },
 "nbformat": 4,
 "nbformat_minor": 5
}
