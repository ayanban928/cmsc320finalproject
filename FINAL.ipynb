{
 "cells": [
  {
   "cell_type": "markdown",
   "id": "7d30add9-c411-4cf1-b160-6dd464aef26b",
   "metadata": {},
   "source": [
    "# Rossman Store Evaluation\n",
    "\n",
    "Spring 2025 CMSC320 Final Project\n",
    "\n",
    "Collaborators: Marvin Lin, Christopher Su, Tanish Bollam, Ayan Banerjee"
   ]
  },
  {
   "cell_type": "markdown",
   "id": "61641052-2156-4f89-a649-d513b4c2f531",
   "metadata": {},
   "source": [
    "### Contributions:\n",
    "\n",
    "Marvin:\n",
    "\n",
    "Chris:\n",
    "\n",
    "Tanish:\n",
    "\n",
    "Ayan:"
   ]
  },
  {
   "cell_type": "markdown",
   "id": "309aa67e-afcd-4688-922a-c1c5b7f336a4",
   "metadata": {},
   "source": [
    "## Introduction:"
   ]
  },
  {
   "cell_type": "markdown",
   "id": "d4f1d585-8acb-42ae-8999-1a476ab020d3",
   "metadata": {},
   "source": [
    "yap about project idea etc\n",
    "\n",
    "The introduction should motivate your work: what is your topic? What\n",
    "question(s) are you trying to answer with your analysis? Why is answering those\n",
    "questions important?"
   ]
  },
  {
   "cell_type": "markdown",
   "id": "cb1d2c9c-98fc-4300-8a05-8e830b833976",
   "metadata": {},
   "source": [
    "## Data Collection/Curation"
   ]
  },
  {
   "cell_type": "markdown",
   "id": "a65bd0e6",
   "metadata": {},
   "source": [
    "Things to include:\n",
    "Cite the source(s) of your data. Explain what it is. Transform the data\n",
    "so that it is ready for analysis. For example, set up a database and use SQL to query\n",
    "for data, or organize a pandas DataFrame.\n"
   ]
  },
  {
   "cell_type": "markdown",
   "id": "ceaf5441-0719-416e-b5a1-f03cfd84beea",
   "metadata": {},
   "source": [
    "This part of the project involves searching for and collecting relevant data from several sources. "
   ]
  },
  {
   "cell_type": "markdown",
   "id": "a979e3ec-3ebe-4112-90a2-4337110a7873",
   "metadata": {},
   "source": [
    "We will begin by importing relevant Python libraries necessary for this process.\n",
    "\n",
    "**Imports**"
   ]
  },
  {
   "cell_type": "code",
   "execution_count": 4,
   "id": "e9f7c72d-d729-42d1-9e06-2c96409f4039",
   "metadata": {},
   "outputs": [],
   "source": [
    "import pandas as pd\n",
    "import numpy as np\n",
    "\n",
    "# Libraries for hypothesis testing\n",
    "from sklearn.preprocessing import LabelEncoder\n",
    "from scipy.stats import ttest_ind\n",
    "from scipy.stats import f_oneway\n",
    "from statsmodels.stats.multicomp import pairwise_tukeyhsd\n",
    "\n",
    "# Libraries for data visualization\n",
    "import matplotlib.pyplot as plt\n",
    "import seaborn as sns"
   ]
  },
  {
   "cell_type": "markdown",
   "id": "2171a4eb-87dd-4628-9c3d-493beb482b9c",
   "metadata": {},
   "source": [
    "These libraries are necessary in the data science process. \n",
    "\n",
    "* **Pandas** is a library used for data manipulation and analysis. It provides data structures such as DataFrame and Series that allow us to efficiently handle structured data.\n",
    "* **Numpy** is a a fundamental library for numerical computing. It offers support for arrays, functions, linear algebra, and statistical operations among functionality.\n",
    "* **Scikit-learn** is a library primarily used for machine learning. It provides efficent tools for data analysis and modeling. These tasks include classification, regression, clustering, and dimensionality reduction.\n",
    "* **Scipy-stats** is a module within scipy the SciPy library that provides various functions for statistical computations. These include probability distributions, statistical tests, descriptive statistics, etc.\n",
    "* **Matplotlib** and **seaborn** are data visualization libraries for creating visualizations in Python such as line graphs, histograms, bar charts, etc."
   ]
  },
  {
   "cell_type": "markdown",
   "id": "9916c50b-53d8-4d83-a82f-d20a629c78a9",
   "metadata": {},
   "source": [
    "Next, we must choose a relevant dataset for our topic. Based on our objective of predicting future store sales based on historical data, we chose the [Rossmann Store Sales dataset](https://www.kaggle.com/competitions/rossmann-store-sales) to work with. Rossmann is one of the largest drug store chains in Europe, with over 4000 stores. This dataset includes key features such as Date, Customers, Sales, Store information, Promotions, etc that will be important for predicting future sales. It includes historical sales data for 1,115 Rossmann stores. \n",
    "\n",
    "The data is split into the following files:\n",
    "* **train.csv** - historical data including Sales.\n",
    "* **test.csv** - historical data excluding Sales.\n",
    "* **store.csv** - supplemental information about the stores.\n",
    "\n",
    "After downloading these datasets, we can begin by loading them into pandas DataFrames."
   ]
  },
  {
   "cell_type": "code",
   "execution_count": 6,
   "id": "954b6c2a-bd58-43d5-b2a1-26f401b6ddb2",
   "metadata": {},
   "outputs": [],
   "source": [
    "# Load data into pandas DataFrames\n",
    "train_df = pd.read_csv('DATASETS/train.csv', low_memory=False)\n",
    "store_df = pd.read_csv('DATASETS/store.csv', low_memory=False)"
   ]
  },
  {
   "cell_type": "markdown",
   "id": "fb108ed3-1f3a-43ba-86af-fd221fe035d8",
   "metadata": {},
   "source": [
    "We use these two datasets and exclude **test.csv** because the information is already included in **train.csv**. The next step is to combine these into one DataFrame "
   ]
  },
  {
   "cell_type": "markdown",
   "id": "556c170a-a613-4c12-a525-db0b86e900f1",
   "metadata": {},
   "source": [
    "## Data Preprocessing"
   ]
  },
  {
   "cell_type": "code",
   "execution_count": null,
   "id": "10160a1e-ce09-445e-ba72-2fd447195d9d",
   "metadata": {},
   "outputs": [],
   "source": []
  },
  {
   "cell_type": "markdown",
   "id": "f472d58d-995a-4468-a28a-f9f130920533",
   "metadata": {},
   "source": [
    "## Data Exploration & Summary Statistics"
   ]
  },
  {
   "cell_type": "code",
   "execution_count": null,
   "id": "79667e22-4648-45cb-aeb0-887c473e0290",
   "metadata": {},
   "outputs": [],
   "source": []
  },
  {
   "cell_type": "markdown",
   "id": "82731370-a76d-4735-abc2-aae6fff99f8f",
   "metadata": {},
   "source": [
    "## ML Algorithm Design & Development"
   ]
  },
  {
   "cell_type": "code",
   "execution_count": null,
   "id": "08cc940a-4642-4cf3-8d66-dd70bb3a13af",
   "metadata": {},
   "outputs": [],
   "source": []
  },
  {
   "cell_type": "markdown",
   "id": "b4a1c35b-f88e-4b5c-a323-eb78c4a169af",
   "metadata": {},
   "source": [
    "## ML Algorithm Training & Analysis"
   ]
  },
  {
   "cell_type": "code",
   "execution_count": null,
   "id": "c421ba90-b730-4322-bc1c-3f39ad46e0b8",
   "metadata": {},
   "outputs": [],
   "source": []
  },
  {
   "cell_type": "markdown",
   "id": "abb58869-5e08-44e3-8d5e-e4762c1b97fa",
   "metadata": {},
   "source": [
    "## Visualization, Result Analysis, and Conclusion"
   ]
  },
  {
   "cell_type": "code",
   "execution_count": null,
   "id": "670aef31-57d1-45bf-94de-57155151d000",
   "metadata": {},
   "outputs": [],
   "source": []
  },
  {
   "cell_type": "markdown",
   "id": "a72cb9a2",
   "metadata": {},
   "source": [
    "## Final Tutorial Report Creation"
   ]
  },
  {
   "cell_type": "code",
   "execution_count": null,
   "id": "90f4a561",
   "metadata": {},
   "outputs": [],
   "source": []
  }
 ],
 "metadata": {
  "kernelspec": {
   "display_name": "Python 3 (ipykernel)",
   "language": "python",
   "name": "python3"
  },
  "language_info": {
   "codemirror_mode": {
    "name": "ipython",
    "version": 3
   },
   "file_extension": ".py",
   "mimetype": "text/x-python",
   "name": "python",
   "nbconvert_exporter": "python",
   "pygments_lexer": "ipython3",
   "version": "3.12.3"
  }
 },
 "nbformat": 4,
 "nbformat_minor": 5
}
